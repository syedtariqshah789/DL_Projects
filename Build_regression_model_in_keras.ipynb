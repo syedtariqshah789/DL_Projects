{
  "nbformat": 4,
  "nbformat_minor": 0,
  "metadata": {
    "colab": {
      "provenance": [],
      "mount_file_id": "1OTU1sO4f40kJggDsirpaBnqDrqxzlHpL",
      "authorship_tag": "ABX9TyM4mtHMqzQaNc4nO86LqLBl",
      "include_colab_link": true
    },
    "kernelspec": {
      "name": "python3",
      "display_name": "Python 3"
    },
    "language_info": {
      "name": "python"
    }
  },
  "cells": [
    {
      "cell_type": "markdown",
      "metadata": {
        "id": "view-in-github",
        "colab_type": "text"
      },
      "source": [
        "<a href=\"https://colab.research.google.com/github/syedtariqshah789/DL_Projects/blob/main/Build_regression_model_in_keras.ipynb\" target=\"_parent\"><img src=\"https://colab.research.google.com/assets/colab-badge.svg\" alt=\"Open In Colab\"/></a>"
      ]
    },
    {
      "cell_type": "code",
      "execution_count": null,
      "metadata": {
        "colab": {
          "base_uri": "https://localhost:8080/",
          "height": 86
        },
        "id": "1iJeZvvi2-bw",
        "outputId": "9a2db9ff-45c9-4c9b-ab67-015ba003cd80"
      },
      "outputs": [
        {
          "output_type": "display_data",
          "data": {
            "text/plain": [
              "<IPython.core.display.HTML object>"
            ],
            "text/html": [
              "\n",
              "     <input type=\"file\" id=\"files-8ce53df4-ec5a-480f-a403-8aac031bdbec\" name=\"files[]\" multiple disabled\n",
              "        style=\"border:none\" />\n",
              "     <output id=\"result-8ce53df4-ec5a-480f-a403-8aac031bdbec\">\n",
              "      Upload widget is only available when the cell has been executed in the\n",
              "      current browser session. Please rerun this cell to enable.\n",
              "      </output>\n",
              "      <script>// Copyright 2017 Google LLC\n",
              "//\n",
              "// Licensed under the Apache License, Version 2.0 (the \"License\");\n",
              "// you may not use this file except in compliance with the License.\n",
              "// You may obtain a copy of the License at\n",
              "//\n",
              "//      http://www.apache.org/licenses/LICENSE-2.0\n",
              "//\n",
              "// Unless required by applicable law or agreed to in writing, software\n",
              "// distributed under the License is distributed on an \"AS IS\" BASIS,\n",
              "// WITHOUT WARRANTIES OR CONDITIONS OF ANY KIND, either express or implied.\n",
              "// See the License for the specific language governing permissions and\n",
              "// limitations under the License.\n",
              "\n",
              "/**\n",
              " * @fileoverview Helpers for google.colab Python module.\n",
              " */\n",
              "(function(scope) {\n",
              "function span(text, styleAttributes = {}) {\n",
              "  const element = document.createElement('span');\n",
              "  element.textContent = text;\n",
              "  for (const key of Object.keys(styleAttributes)) {\n",
              "    element.style[key] = styleAttributes[key];\n",
              "  }\n",
              "  return element;\n",
              "}\n",
              "\n",
              "// Max number of bytes which will be uploaded at a time.\n",
              "const MAX_PAYLOAD_SIZE = 100 * 1024;\n",
              "\n",
              "function _uploadFiles(inputId, outputId) {\n",
              "  const steps = uploadFilesStep(inputId, outputId);\n",
              "  const outputElement = document.getElementById(outputId);\n",
              "  // Cache steps on the outputElement to make it available for the next call\n",
              "  // to uploadFilesContinue from Python.\n",
              "  outputElement.steps = steps;\n",
              "\n",
              "  return _uploadFilesContinue(outputId);\n",
              "}\n",
              "\n",
              "// This is roughly an async generator (not supported in the browser yet),\n",
              "// where there are multiple asynchronous steps and the Python side is going\n",
              "// to poll for completion of each step.\n",
              "// This uses a Promise to block the python side on completion of each step,\n",
              "// then passes the result of the previous step as the input to the next step.\n",
              "function _uploadFilesContinue(outputId) {\n",
              "  const outputElement = document.getElementById(outputId);\n",
              "  const steps = outputElement.steps;\n",
              "\n",
              "  const next = steps.next(outputElement.lastPromiseValue);\n",
              "  return Promise.resolve(next.value.promise).then((value) => {\n",
              "    // Cache the last promise value to make it available to the next\n",
              "    // step of the generator.\n",
              "    outputElement.lastPromiseValue = value;\n",
              "    return next.value.response;\n",
              "  });\n",
              "}\n",
              "\n",
              "/**\n",
              " * Generator function which is called between each async step of the upload\n",
              " * process.\n",
              " * @param {string} inputId Element ID of the input file picker element.\n",
              " * @param {string} outputId Element ID of the output display.\n",
              " * @return {!Iterable<!Object>} Iterable of next steps.\n",
              " */\n",
              "function* uploadFilesStep(inputId, outputId) {\n",
              "  const inputElement = document.getElementById(inputId);\n",
              "  inputElement.disabled = false;\n",
              "\n",
              "  const outputElement = document.getElementById(outputId);\n",
              "  outputElement.innerHTML = '';\n",
              "\n",
              "  const pickedPromise = new Promise((resolve) => {\n",
              "    inputElement.addEventListener('change', (e) => {\n",
              "      resolve(e.target.files);\n",
              "    });\n",
              "  });\n",
              "\n",
              "  const cancel = document.createElement('button');\n",
              "  inputElement.parentElement.appendChild(cancel);\n",
              "  cancel.textContent = 'Cancel upload';\n",
              "  const cancelPromise = new Promise((resolve) => {\n",
              "    cancel.onclick = () => {\n",
              "      resolve(null);\n",
              "    };\n",
              "  });\n",
              "\n",
              "  // Wait for the user to pick the files.\n",
              "  const files = yield {\n",
              "    promise: Promise.race([pickedPromise, cancelPromise]),\n",
              "    response: {\n",
              "      action: 'starting',\n",
              "    }\n",
              "  };\n",
              "\n",
              "  cancel.remove();\n",
              "\n",
              "  // Disable the input element since further picks are not allowed.\n",
              "  inputElement.disabled = true;\n",
              "\n",
              "  if (!files) {\n",
              "    return {\n",
              "      response: {\n",
              "        action: 'complete',\n",
              "      }\n",
              "    };\n",
              "  }\n",
              "\n",
              "  for (const file of files) {\n",
              "    const li = document.createElement('li');\n",
              "    li.append(span(file.name, {fontWeight: 'bold'}));\n",
              "    li.append(span(\n",
              "        `(${file.type || 'n/a'}) - ${file.size} bytes, ` +\n",
              "        `last modified: ${\n",
              "            file.lastModifiedDate ? file.lastModifiedDate.toLocaleDateString() :\n",
              "                                    'n/a'} - `));\n",
              "    const percent = span('0% done');\n",
              "    li.appendChild(percent);\n",
              "\n",
              "    outputElement.appendChild(li);\n",
              "\n",
              "    const fileDataPromise = new Promise((resolve) => {\n",
              "      const reader = new FileReader();\n",
              "      reader.onload = (e) => {\n",
              "        resolve(e.target.result);\n",
              "      };\n",
              "      reader.readAsArrayBuffer(file);\n",
              "    });\n",
              "    // Wait for the data to be ready.\n",
              "    let fileData = yield {\n",
              "      promise: fileDataPromise,\n",
              "      response: {\n",
              "        action: 'continue',\n",
              "      }\n",
              "    };\n",
              "\n",
              "    // Use a chunked sending to avoid message size limits. See b/62115660.\n",
              "    let position = 0;\n",
              "    do {\n",
              "      const length = Math.min(fileData.byteLength - position, MAX_PAYLOAD_SIZE);\n",
              "      const chunk = new Uint8Array(fileData, position, length);\n",
              "      position += length;\n",
              "\n",
              "      const base64 = btoa(String.fromCharCode.apply(null, chunk));\n",
              "      yield {\n",
              "        response: {\n",
              "          action: 'append',\n",
              "          file: file.name,\n",
              "          data: base64,\n",
              "        },\n",
              "      };\n",
              "\n",
              "      let percentDone = fileData.byteLength === 0 ?\n",
              "          100 :\n",
              "          Math.round((position / fileData.byteLength) * 100);\n",
              "      percent.textContent = `${percentDone}% done`;\n",
              "\n",
              "    } while (position < fileData.byteLength);\n",
              "  }\n",
              "\n",
              "  // All done.\n",
              "  yield {\n",
              "    response: {\n",
              "      action: 'complete',\n",
              "    }\n",
              "  };\n",
              "}\n",
              "\n",
              "scope.google = scope.google || {};\n",
              "scope.google.colab = scope.google.colab || {};\n",
              "scope.google.colab._files = {\n",
              "  _uploadFiles,\n",
              "  _uploadFilesContinue,\n",
              "};\n",
              "})(self);\n",
              "</script> "
            ]
          },
          "metadata": {}
        },
        {
          "output_type": "stream",
          "name": "stdout",
          "text": [
            "Saving kaggle.json to kaggle.json\n"
          ]
        },
        {
          "output_type": "execute_result",
          "data": {
            "text/plain": [
              "{'kaggle.json': b'{\"username\":\"syedtariqshah\",\"key\":\"59e55a5ffcf71f2ba9656d6a5eedeff8\"}'}"
            ]
          },
          "metadata": {},
          "execution_count": 1
        }
      ],
      "source": [
        "from google.colab import files\n",
        "files.upload()"
      ]
    },
    {
      "cell_type": "code",
      "source": [
        "!mkdir ~/.kaggle\n",
        "!cp kaggle.json ~/.kaggle\n",
        "!chmod 600 ~/.kaggle/kaggle.json"
      ],
      "metadata": {
        "id": "Npgsqhkt35SN"
      },
      "execution_count": null,
      "outputs": []
    },
    {
      "cell_type": "code",
      "source": [
        "!kaggle datasets download -d prathamtripathi/regression-with-neural-networking"
      ],
      "metadata": {
        "colab": {
          "base_uri": "https://localhost:8080/"
        },
        "id": "lZgFp54c4aU_",
        "outputId": "2c4bd86f-35f2-483b-c402-1ca8a5d2324a"
      },
      "execution_count": null,
      "outputs": [
        {
          "output_type": "stream",
          "name": "stdout",
          "text": [
            "Downloading regression-with-neural-networking.zip to /content\n",
            "\r  0% 0.00/11.1k [00:00<?, ?B/s]\n",
            "\r100% 11.1k/11.1k [00:00<00:00, 23.4MB/s]\n"
          ]
        }
      ]
    },
    {
      "cell_type": "code",
      "source": [
        "!unzip /content/regression-with-neural-networking.zip"
      ],
      "metadata": {
        "colab": {
          "base_uri": "https://localhost:8080/"
        },
        "id": "ve0gGvm94kiG",
        "outputId": "dc1387a4-2485-4071-9fb5-96e48bddffd0"
      },
      "execution_count": null,
      "outputs": [
        {
          "output_type": "stream",
          "name": "stdout",
          "text": [
            "Archive:  /content/regression-with-neural-networking.zip\n",
            "  inflating: concrete_data.csv       \n"
          ]
        }
      ]
    },
    {
      "cell_type": "code",
      "source": [
        "import pandas as pd\n",
        "df=pd.read_csv('concrete_data.csv')\n",
        "df.head(10)"
      ],
      "metadata": {
        "colab": {
          "base_uri": "https://localhost:8080/",
          "height": 359
        },
        "id": "EhPFKfAR4ySi",
        "outputId": "88b7828c-cdc0-4d88-8ddf-88051554e7ba"
      },
      "execution_count": null,
      "outputs": [
        {
          "output_type": "execute_result",
          "data": {
            "text/plain": [
              "   Cement  Blast Furnace Slag  Fly Ash  Water  Superplasticizer  \\\n",
              "0   540.0                 0.0      0.0  162.0               2.5   \n",
              "1   540.0                 0.0      0.0  162.0               2.5   \n",
              "2   332.5               142.5      0.0  228.0               0.0   \n",
              "3   332.5               142.5      0.0  228.0               0.0   \n",
              "4   198.6               132.4      0.0  192.0               0.0   \n",
              "5   266.0               114.0      0.0  228.0               0.0   \n",
              "6   380.0                95.0      0.0  228.0               0.0   \n",
              "7   380.0                95.0      0.0  228.0               0.0   \n",
              "8   266.0               114.0      0.0  228.0               0.0   \n",
              "9   475.0                 0.0      0.0  228.0               0.0   \n",
              "\n",
              "   Coarse Aggregate  Fine Aggregate  Age  Strength  \n",
              "0            1040.0           676.0   28     79.99  \n",
              "1            1055.0           676.0   28     61.89  \n",
              "2             932.0           594.0  270     40.27  \n",
              "3             932.0           594.0  365     41.05  \n",
              "4             978.4           825.5  360     44.30  \n",
              "5             932.0           670.0   90     47.03  \n",
              "6             932.0           594.0  365     43.70  \n",
              "7             932.0           594.0   28     36.45  \n",
              "8             932.0           670.0   28     45.85  \n",
              "9             932.0           594.0   28     39.29  "
            ],
            "text/html": [
              "\n",
              "  <div id=\"df-93d8043e-ef69-4eba-8c4f-e424387ec5dc\" class=\"colab-df-container\">\n",
              "    <div>\n",
              "<style scoped>\n",
              "    .dataframe tbody tr th:only-of-type {\n",
              "        vertical-align: middle;\n",
              "    }\n",
              "\n",
              "    .dataframe tbody tr th {\n",
              "        vertical-align: top;\n",
              "    }\n",
              "\n",
              "    .dataframe thead th {\n",
              "        text-align: right;\n",
              "    }\n",
              "</style>\n",
              "<table border=\"1\" class=\"dataframe\">\n",
              "  <thead>\n",
              "    <tr style=\"text-align: right;\">\n",
              "      <th></th>\n",
              "      <th>Cement</th>\n",
              "      <th>Blast Furnace Slag</th>\n",
              "      <th>Fly Ash</th>\n",
              "      <th>Water</th>\n",
              "      <th>Superplasticizer</th>\n",
              "      <th>Coarse Aggregate</th>\n",
              "      <th>Fine Aggregate</th>\n",
              "      <th>Age</th>\n",
              "      <th>Strength</th>\n",
              "    </tr>\n",
              "  </thead>\n",
              "  <tbody>\n",
              "    <tr>\n",
              "      <th>0</th>\n",
              "      <td>540.0</td>\n",
              "      <td>0.0</td>\n",
              "      <td>0.0</td>\n",
              "      <td>162.0</td>\n",
              "      <td>2.5</td>\n",
              "      <td>1040.0</td>\n",
              "      <td>676.0</td>\n",
              "      <td>28</td>\n",
              "      <td>79.99</td>\n",
              "    </tr>\n",
              "    <tr>\n",
              "      <th>1</th>\n",
              "      <td>540.0</td>\n",
              "      <td>0.0</td>\n",
              "      <td>0.0</td>\n",
              "      <td>162.0</td>\n",
              "      <td>2.5</td>\n",
              "      <td>1055.0</td>\n",
              "      <td>676.0</td>\n",
              "      <td>28</td>\n",
              "      <td>61.89</td>\n",
              "    </tr>\n",
              "    <tr>\n",
              "      <th>2</th>\n",
              "      <td>332.5</td>\n",
              "      <td>142.5</td>\n",
              "      <td>0.0</td>\n",
              "      <td>228.0</td>\n",
              "      <td>0.0</td>\n",
              "      <td>932.0</td>\n",
              "      <td>594.0</td>\n",
              "      <td>270</td>\n",
              "      <td>40.27</td>\n",
              "    </tr>\n",
              "    <tr>\n",
              "      <th>3</th>\n",
              "      <td>332.5</td>\n",
              "      <td>142.5</td>\n",
              "      <td>0.0</td>\n",
              "      <td>228.0</td>\n",
              "      <td>0.0</td>\n",
              "      <td>932.0</td>\n",
              "      <td>594.0</td>\n",
              "      <td>365</td>\n",
              "      <td>41.05</td>\n",
              "    </tr>\n",
              "    <tr>\n",
              "      <th>4</th>\n",
              "      <td>198.6</td>\n",
              "      <td>132.4</td>\n",
              "      <td>0.0</td>\n",
              "      <td>192.0</td>\n",
              "      <td>0.0</td>\n",
              "      <td>978.4</td>\n",
              "      <td>825.5</td>\n",
              "      <td>360</td>\n",
              "      <td>44.30</td>\n",
              "    </tr>\n",
              "    <tr>\n",
              "      <th>5</th>\n",
              "      <td>266.0</td>\n",
              "      <td>114.0</td>\n",
              "      <td>0.0</td>\n",
              "      <td>228.0</td>\n",
              "      <td>0.0</td>\n",
              "      <td>932.0</td>\n",
              "      <td>670.0</td>\n",
              "      <td>90</td>\n",
              "      <td>47.03</td>\n",
              "    </tr>\n",
              "    <tr>\n",
              "      <th>6</th>\n",
              "      <td>380.0</td>\n",
              "      <td>95.0</td>\n",
              "      <td>0.0</td>\n",
              "      <td>228.0</td>\n",
              "      <td>0.0</td>\n",
              "      <td>932.0</td>\n",
              "      <td>594.0</td>\n",
              "      <td>365</td>\n",
              "      <td>43.70</td>\n",
              "    </tr>\n",
              "    <tr>\n",
              "      <th>7</th>\n",
              "      <td>380.0</td>\n",
              "      <td>95.0</td>\n",
              "      <td>0.0</td>\n",
              "      <td>228.0</td>\n",
              "      <td>0.0</td>\n",
              "      <td>932.0</td>\n",
              "      <td>594.0</td>\n",
              "      <td>28</td>\n",
              "      <td>36.45</td>\n",
              "    </tr>\n",
              "    <tr>\n",
              "      <th>8</th>\n",
              "      <td>266.0</td>\n",
              "      <td>114.0</td>\n",
              "      <td>0.0</td>\n",
              "      <td>228.0</td>\n",
              "      <td>0.0</td>\n",
              "      <td>932.0</td>\n",
              "      <td>670.0</td>\n",
              "      <td>28</td>\n",
              "      <td>45.85</td>\n",
              "    </tr>\n",
              "    <tr>\n",
              "      <th>9</th>\n",
              "      <td>475.0</td>\n",
              "      <td>0.0</td>\n",
              "      <td>0.0</td>\n",
              "      <td>228.0</td>\n",
              "      <td>0.0</td>\n",
              "      <td>932.0</td>\n",
              "      <td>594.0</td>\n",
              "      <td>28</td>\n",
              "      <td>39.29</td>\n",
              "    </tr>\n",
              "  </tbody>\n",
              "</table>\n",
              "</div>\n",
              "    <div class=\"colab-df-buttons\">\n",
              "\n",
              "  <div class=\"colab-df-container\">\n",
              "    <button class=\"colab-df-convert\" onclick=\"convertToInteractive('df-93d8043e-ef69-4eba-8c4f-e424387ec5dc')\"\n",
              "            title=\"Convert this dataframe to an interactive table.\"\n",
              "            style=\"display:none;\">\n",
              "\n",
              "  <svg xmlns=\"http://www.w3.org/2000/svg\" height=\"24px\" viewBox=\"0 -960 960 960\">\n",
              "    <path d=\"M120-120v-720h720v720H120Zm60-500h600v-160H180v160Zm220 220h160v-160H400v160Zm0 220h160v-160H400v160ZM180-400h160v-160H180v160Zm440 0h160v-160H620v160ZM180-180h160v-160H180v160Zm440 0h160v-160H620v160Z\"/>\n",
              "  </svg>\n",
              "    </button>\n",
              "\n",
              "  <style>\n",
              "    .colab-df-container {\n",
              "      display:flex;\n",
              "      gap: 12px;\n",
              "    }\n",
              "\n",
              "    .colab-df-convert {\n",
              "      background-color: #E8F0FE;\n",
              "      border: none;\n",
              "      border-radius: 50%;\n",
              "      cursor: pointer;\n",
              "      display: none;\n",
              "      fill: #1967D2;\n",
              "      height: 32px;\n",
              "      padding: 0 0 0 0;\n",
              "      width: 32px;\n",
              "    }\n",
              "\n",
              "    .colab-df-convert:hover {\n",
              "      background-color: #E2EBFA;\n",
              "      box-shadow: 0px 1px 2px rgba(60, 64, 67, 0.3), 0px 1px 3px 1px rgba(60, 64, 67, 0.15);\n",
              "      fill: #174EA6;\n",
              "    }\n",
              "\n",
              "    .colab-df-buttons div {\n",
              "      margin-bottom: 4px;\n",
              "    }\n",
              "\n",
              "    [theme=dark] .colab-df-convert {\n",
              "      background-color: #3B4455;\n",
              "      fill: #D2E3FC;\n",
              "    }\n",
              "\n",
              "    [theme=dark] .colab-df-convert:hover {\n",
              "      background-color: #434B5C;\n",
              "      box-shadow: 0px 1px 3px 1px rgba(0, 0, 0, 0.15);\n",
              "      filter: drop-shadow(0px 1px 2px rgba(0, 0, 0, 0.3));\n",
              "      fill: #FFFFFF;\n",
              "    }\n",
              "  </style>\n",
              "\n",
              "    <script>\n",
              "      const buttonEl =\n",
              "        document.querySelector('#df-93d8043e-ef69-4eba-8c4f-e424387ec5dc button.colab-df-convert');\n",
              "      buttonEl.style.display =\n",
              "        google.colab.kernel.accessAllowed ? 'block' : 'none';\n",
              "\n",
              "      async function convertToInteractive(key) {\n",
              "        const element = document.querySelector('#df-93d8043e-ef69-4eba-8c4f-e424387ec5dc');\n",
              "        const dataTable =\n",
              "          await google.colab.kernel.invokeFunction('convertToInteractive',\n",
              "                                                    [key], {});\n",
              "        if (!dataTable) return;\n",
              "\n",
              "        const docLinkHtml = 'Like what you see? Visit the ' +\n",
              "          '<a target=\"_blank\" href=https://colab.research.google.com/notebooks/data_table.ipynb>data table notebook</a>'\n",
              "          + ' to learn more about interactive tables.';\n",
              "        element.innerHTML = '';\n",
              "        dataTable['output_type'] = 'display_data';\n",
              "        await google.colab.output.renderOutput(dataTable, element);\n",
              "        const docLink = document.createElement('div');\n",
              "        docLink.innerHTML = docLinkHtml;\n",
              "        element.appendChild(docLink);\n",
              "      }\n",
              "    </script>\n",
              "  </div>\n",
              "\n",
              "\n",
              "<div id=\"df-beb7b52b-df87-4752-9e80-5be1a9912746\">\n",
              "  <button class=\"colab-df-quickchart\" onclick=\"quickchart('df-beb7b52b-df87-4752-9e80-5be1a9912746')\"\n",
              "            title=\"Suggest charts.\"\n",
              "            style=\"display:none;\">\n",
              "\n",
              "<svg xmlns=\"http://www.w3.org/2000/svg\" height=\"24px\"viewBox=\"0 0 24 24\"\n",
              "     width=\"24px\">\n",
              "    <g>\n",
              "        <path d=\"M19 3H5c-1.1 0-2 .9-2 2v14c0 1.1.9 2 2 2h14c1.1 0 2-.9 2-2V5c0-1.1-.9-2-2-2zM9 17H7v-7h2v7zm4 0h-2V7h2v10zm4 0h-2v-4h2v4z\"/>\n",
              "    </g>\n",
              "</svg>\n",
              "  </button>\n",
              "\n",
              "<style>\n",
              "  .colab-df-quickchart {\n",
              "      --bg-color: #E8F0FE;\n",
              "      --fill-color: #1967D2;\n",
              "      --hover-bg-color: #E2EBFA;\n",
              "      --hover-fill-color: #174EA6;\n",
              "      --disabled-fill-color: #AAA;\n",
              "      --disabled-bg-color: #DDD;\n",
              "  }\n",
              "\n",
              "  [theme=dark] .colab-df-quickchart {\n",
              "      --bg-color: #3B4455;\n",
              "      --fill-color: #D2E3FC;\n",
              "      --hover-bg-color: #434B5C;\n",
              "      --hover-fill-color: #FFFFFF;\n",
              "      --disabled-bg-color: #3B4455;\n",
              "      --disabled-fill-color: #666;\n",
              "  }\n",
              "\n",
              "  .colab-df-quickchart {\n",
              "    background-color: var(--bg-color);\n",
              "    border: none;\n",
              "    border-radius: 50%;\n",
              "    cursor: pointer;\n",
              "    display: none;\n",
              "    fill: var(--fill-color);\n",
              "    height: 32px;\n",
              "    padding: 0;\n",
              "    width: 32px;\n",
              "  }\n",
              "\n",
              "  .colab-df-quickchart:hover {\n",
              "    background-color: var(--hover-bg-color);\n",
              "    box-shadow: 0 1px 2px rgba(60, 64, 67, 0.3), 0 1px 3px 1px rgba(60, 64, 67, 0.15);\n",
              "    fill: var(--button-hover-fill-color);\n",
              "  }\n",
              "\n",
              "  .colab-df-quickchart-complete:disabled,\n",
              "  .colab-df-quickchart-complete:disabled:hover {\n",
              "    background-color: var(--disabled-bg-color);\n",
              "    fill: var(--disabled-fill-color);\n",
              "    box-shadow: none;\n",
              "  }\n",
              "\n",
              "  .colab-df-spinner {\n",
              "    border: 2px solid var(--fill-color);\n",
              "    border-color: transparent;\n",
              "    border-bottom-color: var(--fill-color);\n",
              "    animation:\n",
              "      spin 1s steps(1) infinite;\n",
              "  }\n",
              "\n",
              "  @keyframes spin {\n",
              "    0% {\n",
              "      border-color: transparent;\n",
              "      border-bottom-color: var(--fill-color);\n",
              "      border-left-color: var(--fill-color);\n",
              "    }\n",
              "    20% {\n",
              "      border-color: transparent;\n",
              "      border-left-color: var(--fill-color);\n",
              "      border-top-color: var(--fill-color);\n",
              "    }\n",
              "    30% {\n",
              "      border-color: transparent;\n",
              "      border-left-color: var(--fill-color);\n",
              "      border-top-color: var(--fill-color);\n",
              "      border-right-color: var(--fill-color);\n",
              "    }\n",
              "    40% {\n",
              "      border-color: transparent;\n",
              "      border-right-color: var(--fill-color);\n",
              "      border-top-color: var(--fill-color);\n",
              "    }\n",
              "    60% {\n",
              "      border-color: transparent;\n",
              "      border-right-color: var(--fill-color);\n",
              "    }\n",
              "    80% {\n",
              "      border-color: transparent;\n",
              "      border-right-color: var(--fill-color);\n",
              "      border-bottom-color: var(--fill-color);\n",
              "    }\n",
              "    90% {\n",
              "      border-color: transparent;\n",
              "      border-bottom-color: var(--fill-color);\n",
              "    }\n",
              "  }\n",
              "</style>\n",
              "\n",
              "  <script>\n",
              "    async function quickchart(key) {\n",
              "      const quickchartButtonEl =\n",
              "        document.querySelector('#' + key + ' button');\n",
              "      quickchartButtonEl.disabled = true;  // To prevent multiple clicks.\n",
              "      quickchartButtonEl.classList.add('colab-df-spinner');\n",
              "      try {\n",
              "        const charts = await google.colab.kernel.invokeFunction(\n",
              "            'suggestCharts', [key], {});\n",
              "      } catch (error) {\n",
              "        console.error('Error during call to suggestCharts:', error);\n",
              "      }\n",
              "      quickchartButtonEl.classList.remove('colab-df-spinner');\n",
              "      quickchartButtonEl.classList.add('colab-df-quickchart-complete');\n",
              "    }\n",
              "    (() => {\n",
              "      let quickchartButtonEl =\n",
              "        document.querySelector('#df-beb7b52b-df87-4752-9e80-5be1a9912746 button');\n",
              "      quickchartButtonEl.style.display =\n",
              "        google.colab.kernel.accessAllowed ? 'block' : 'none';\n",
              "    })();\n",
              "  </script>\n",
              "</div>\n",
              "    </div>\n",
              "  </div>\n"
            ]
          },
          "metadata": {},
          "execution_count": 5
        }
      ]
    },
    {
      "cell_type": "code",
      "source": [
        "df.describe()"
      ],
      "metadata": {
        "colab": {
          "base_uri": "https://localhost:8080/",
          "height": 297
        },
        "id": "aVt52Xdh4_hJ",
        "outputId": "5eac7ab0-2d19-4d98-ce9f-2551b2f64a51"
      },
      "execution_count": null,
      "outputs": [
        {
          "output_type": "execute_result",
          "data": {
            "text/plain": [
              "            Cement  Blast Furnace Slag      Fly Ash        Water  \\\n",
              "count  1030.000000         1030.000000  1030.000000  1030.000000   \n",
              "mean    281.167864           73.895825    54.188350   181.567282   \n",
              "std     104.506364           86.279342    63.997004    21.354219   \n",
              "min     102.000000            0.000000     0.000000   121.800000   \n",
              "25%     192.375000            0.000000     0.000000   164.900000   \n",
              "50%     272.900000           22.000000     0.000000   185.000000   \n",
              "75%     350.000000          142.950000   118.300000   192.000000   \n",
              "max     540.000000          359.400000   200.100000   247.000000   \n",
              "\n",
              "       Superplasticizer  Coarse Aggregate  Fine Aggregate          Age  \\\n",
              "count       1030.000000       1030.000000     1030.000000  1030.000000   \n",
              "mean           6.204660        972.918932      773.580485    45.662136   \n",
              "std            5.973841         77.753954       80.175980    63.169912   \n",
              "min            0.000000        801.000000      594.000000     1.000000   \n",
              "25%            0.000000        932.000000      730.950000     7.000000   \n",
              "50%            6.400000        968.000000      779.500000    28.000000   \n",
              "75%           10.200000       1029.400000      824.000000    56.000000   \n",
              "max           32.200000       1145.000000      992.600000   365.000000   \n",
              "\n",
              "          Strength  \n",
              "count  1030.000000  \n",
              "mean     35.817961  \n",
              "std      16.705742  \n",
              "min       2.330000  \n",
              "25%      23.710000  \n",
              "50%      34.445000  \n",
              "75%      46.135000  \n",
              "max      82.600000  "
            ],
            "text/html": [
              "\n",
              "  <div id=\"df-62fb4266-4030-459f-8573-68b6643f73f4\" class=\"colab-df-container\">\n",
              "    <div>\n",
              "<style scoped>\n",
              "    .dataframe tbody tr th:only-of-type {\n",
              "        vertical-align: middle;\n",
              "    }\n",
              "\n",
              "    .dataframe tbody tr th {\n",
              "        vertical-align: top;\n",
              "    }\n",
              "\n",
              "    .dataframe thead th {\n",
              "        text-align: right;\n",
              "    }\n",
              "</style>\n",
              "<table border=\"1\" class=\"dataframe\">\n",
              "  <thead>\n",
              "    <tr style=\"text-align: right;\">\n",
              "      <th></th>\n",
              "      <th>Cement</th>\n",
              "      <th>Blast Furnace Slag</th>\n",
              "      <th>Fly Ash</th>\n",
              "      <th>Water</th>\n",
              "      <th>Superplasticizer</th>\n",
              "      <th>Coarse Aggregate</th>\n",
              "      <th>Fine Aggregate</th>\n",
              "      <th>Age</th>\n",
              "      <th>Strength</th>\n",
              "    </tr>\n",
              "  </thead>\n",
              "  <tbody>\n",
              "    <tr>\n",
              "      <th>count</th>\n",
              "      <td>1030.000000</td>\n",
              "      <td>1030.000000</td>\n",
              "      <td>1030.000000</td>\n",
              "      <td>1030.000000</td>\n",
              "      <td>1030.000000</td>\n",
              "      <td>1030.000000</td>\n",
              "      <td>1030.000000</td>\n",
              "      <td>1030.000000</td>\n",
              "      <td>1030.000000</td>\n",
              "    </tr>\n",
              "    <tr>\n",
              "      <th>mean</th>\n",
              "      <td>281.167864</td>\n",
              "      <td>73.895825</td>\n",
              "      <td>54.188350</td>\n",
              "      <td>181.567282</td>\n",
              "      <td>6.204660</td>\n",
              "      <td>972.918932</td>\n",
              "      <td>773.580485</td>\n",
              "      <td>45.662136</td>\n",
              "      <td>35.817961</td>\n",
              "    </tr>\n",
              "    <tr>\n",
              "      <th>std</th>\n",
              "      <td>104.506364</td>\n",
              "      <td>86.279342</td>\n",
              "      <td>63.997004</td>\n",
              "      <td>21.354219</td>\n",
              "      <td>5.973841</td>\n",
              "      <td>77.753954</td>\n",
              "      <td>80.175980</td>\n",
              "      <td>63.169912</td>\n",
              "      <td>16.705742</td>\n",
              "    </tr>\n",
              "    <tr>\n",
              "      <th>min</th>\n",
              "      <td>102.000000</td>\n",
              "      <td>0.000000</td>\n",
              "      <td>0.000000</td>\n",
              "      <td>121.800000</td>\n",
              "      <td>0.000000</td>\n",
              "      <td>801.000000</td>\n",
              "      <td>594.000000</td>\n",
              "      <td>1.000000</td>\n",
              "      <td>2.330000</td>\n",
              "    </tr>\n",
              "    <tr>\n",
              "      <th>25%</th>\n",
              "      <td>192.375000</td>\n",
              "      <td>0.000000</td>\n",
              "      <td>0.000000</td>\n",
              "      <td>164.900000</td>\n",
              "      <td>0.000000</td>\n",
              "      <td>932.000000</td>\n",
              "      <td>730.950000</td>\n",
              "      <td>7.000000</td>\n",
              "      <td>23.710000</td>\n",
              "    </tr>\n",
              "    <tr>\n",
              "      <th>50%</th>\n",
              "      <td>272.900000</td>\n",
              "      <td>22.000000</td>\n",
              "      <td>0.000000</td>\n",
              "      <td>185.000000</td>\n",
              "      <td>6.400000</td>\n",
              "      <td>968.000000</td>\n",
              "      <td>779.500000</td>\n",
              "      <td>28.000000</td>\n",
              "      <td>34.445000</td>\n",
              "    </tr>\n",
              "    <tr>\n",
              "      <th>75%</th>\n",
              "      <td>350.000000</td>\n",
              "      <td>142.950000</td>\n",
              "      <td>118.300000</td>\n",
              "      <td>192.000000</td>\n",
              "      <td>10.200000</td>\n",
              "      <td>1029.400000</td>\n",
              "      <td>824.000000</td>\n",
              "      <td>56.000000</td>\n",
              "      <td>46.135000</td>\n",
              "    </tr>\n",
              "    <tr>\n",
              "      <th>max</th>\n",
              "      <td>540.000000</td>\n",
              "      <td>359.400000</td>\n",
              "      <td>200.100000</td>\n",
              "      <td>247.000000</td>\n",
              "      <td>32.200000</td>\n",
              "      <td>1145.000000</td>\n",
              "      <td>992.600000</td>\n",
              "      <td>365.000000</td>\n",
              "      <td>82.600000</td>\n",
              "    </tr>\n",
              "  </tbody>\n",
              "</table>\n",
              "</div>\n",
              "    <div class=\"colab-df-buttons\">\n",
              "\n",
              "  <div class=\"colab-df-container\">\n",
              "    <button class=\"colab-df-convert\" onclick=\"convertToInteractive('df-62fb4266-4030-459f-8573-68b6643f73f4')\"\n",
              "            title=\"Convert this dataframe to an interactive table.\"\n",
              "            style=\"display:none;\">\n",
              "\n",
              "  <svg xmlns=\"http://www.w3.org/2000/svg\" height=\"24px\" viewBox=\"0 -960 960 960\">\n",
              "    <path d=\"M120-120v-720h720v720H120Zm60-500h600v-160H180v160Zm220 220h160v-160H400v160Zm0 220h160v-160H400v160ZM180-400h160v-160H180v160Zm440 0h160v-160H620v160ZM180-180h160v-160H180v160Zm440 0h160v-160H620v160Z\"/>\n",
              "  </svg>\n",
              "    </button>\n",
              "\n",
              "  <style>\n",
              "    .colab-df-container {\n",
              "      display:flex;\n",
              "      gap: 12px;\n",
              "    }\n",
              "\n",
              "    .colab-df-convert {\n",
              "      background-color: #E8F0FE;\n",
              "      border: none;\n",
              "      border-radius: 50%;\n",
              "      cursor: pointer;\n",
              "      display: none;\n",
              "      fill: #1967D2;\n",
              "      height: 32px;\n",
              "      padding: 0 0 0 0;\n",
              "      width: 32px;\n",
              "    }\n",
              "\n",
              "    .colab-df-convert:hover {\n",
              "      background-color: #E2EBFA;\n",
              "      box-shadow: 0px 1px 2px rgba(60, 64, 67, 0.3), 0px 1px 3px 1px rgba(60, 64, 67, 0.15);\n",
              "      fill: #174EA6;\n",
              "    }\n",
              "\n",
              "    .colab-df-buttons div {\n",
              "      margin-bottom: 4px;\n",
              "    }\n",
              "\n",
              "    [theme=dark] .colab-df-convert {\n",
              "      background-color: #3B4455;\n",
              "      fill: #D2E3FC;\n",
              "    }\n",
              "\n",
              "    [theme=dark] .colab-df-convert:hover {\n",
              "      background-color: #434B5C;\n",
              "      box-shadow: 0px 1px 3px 1px rgba(0, 0, 0, 0.15);\n",
              "      filter: drop-shadow(0px 1px 2px rgba(0, 0, 0, 0.3));\n",
              "      fill: #FFFFFF;\n",
              "    }\n",
              "  </style>\n",
              "\n",
              "    <script>\n",
              "      const buttonEl =\n",
              "        document.querySelector('#df-62fb4266-4030-459f-8573-68b6643f73f4 button.colab-df-convert');\n",
              "      buttonEl.style.display =\n",
              "        google.colab.kernel.accessAllowed ? 'block' : 'none';\n",
              "\n",
              "      async function convertToInteractive(key) {\n",
              "        const element = document.querySelector('#df-62fb4266-4030-459f-8573-68b6643f73f4');\n",
              "        const dataTable =\n",
              "          await google.colab.kernel.invokeFunction('convertToInteractive',\n",
              "                                                    [key], {});\n",
              "        if (!dataTable) return;\n",
              "\n",
              "        const docLinkHtml = 'Like what you see? Visit the ' +\n",
              "          '<a target=\"_blank\" href=https://colab.research.google.com/notebooks/data_table.ipynb>data table notebook</a>'\n",
              "          + ' to learn more about interactive tables.';\n",
              "        element.innerHTML = '';\n",
              "        dataTable['output_type'] = 'display_data';\n",
              "        await google.colab.output.renderOutput(dataTable, element);\n",
              "        const docLink = document.createElement('div');\n",
              "        docLink.innerHTML = docLinkHtml;\n",
              "        element.appendChild(docLink);\n",
              "      }\n",
              "    </script>\n",
              "  </div>\n",
              "\n",
              "\n",
              "<div id=\"df-e2472458-7724-4ae6-ae37-71a2020c2394\">\n",
              "  <button class=\"colab-df-quickchart\" onclick=\"quickchart('df-e2472458-7724-4ae6-ae37-71a2020c2394')\"\n",
              "            title=\"Suggest charts.\"\n",
              "            style=\"display:none;\">\n",
              "\n",
              "<svg xmlns=\"http://www.w3.org/2000/svg\" height=\"24px\"viewBox=\"0 0 24 24\"\n",
              "     width=\"24px\">\n",
              "    <g>\n",
              "        <path d=\"M19 3H5c-1.1 0-2 .9-2 2v14c0 1.1.9 2 2 2h14c1.1 0 2-.9 2-2V5c0-1.1-.9-2-2-2zM9 17H7v-7h2v7zm4 0h-2V7h2v10zm4 0h-2v-4h2v4z\"/>\n",
              "    </g>\n",
              "</svg>\n",
              "  </button>\n",
              "\n",
              "<style>\n",
              "  .colab-df-quickchart {\n",
              "      --bg-color: #E8F0FE;\n",
              "      --fill-color: #1967D2;\n",
              "      --hover-bg-color: #E2EBFA;\n",
              "      --hover-fill-color: #174EA6;\n",
              "      --disabled-fill-color: #AAA;\n",
              "      --disabled-bg-color: #DDD;\n",
              "  }\n",
              "\n",
              "  [theme=dark] .colab-df-quickchart {\n",
              "      --bg-color: #3B4455;\n",
              "      --fill-color: #D2E3FC;\n",
              "      --hover-bg-color: #434B5C;\n",
              "      --hover-fill-color: #FFFFFF;\n",
              "      --disabled-bg-color: #3B4455;\n",
              "      --disabled-fill-color: #666;\n",
              "  }\n",
              "\n",
              "  .colab-df-quickchart {\n",
              "    background-color: var(--bg-color);\n",
              "    border: none;\n",
              "    border-radius: 50%;\n",
              "    cursor: pointer;\n",
              "    display: none;\n",
              "    fill: var(--fill-color);\n",
              "    height: 32px;\n",
              "    padding: 0;\n",
              "    width: 32px;\n",
              "  }\n",
              "\n",
              "  .colab-df-quickchart:hover {\n",
              "    background-color: var(--hover-bg-color);\n",
              "    box-shadow: 0 1px 2px rgba(60, 64, 67, 0.3), 0 1px 3px 1px rgba(60, 64, 67, 0.15);\n",
              "    fill: var(--button-hover-fill-color);\n",
              "  }\n",
              "\n",
              "  .colab-df-quickchart-complete:disabled,\n",
              "  .colab-df-quickchart-complete:disabled:hover {\n",
              "    background-color: var(--disabled-bg-color);\n",
              "    fill: var(--disabled-fill-color);\n",
              "    box-shadow: none;\n",
              "  }\n",
              "\n",
              "  .colab-df-spinner {\n",
              "    border: 2px solid var(--fill-color);\n",
              "    border-color: transparent;\n",
              "    border-bottom-color: var(--fill-color);\n",
              "    animation:\n",
              "      spin 1s steps(1) infinite;\n",
              "  }\n",
              "\n",
              "  @keyframes spin {\n",
              "    0% {\n",
              "      border-color: transparent;\n",
              "      border-bottom-color: var(--fill-color);\n",
              "      border-left-color: var(--fill-color);\n",
              "    }\n",
              "    20% {\n",
              "      border-color: transparent;\n",
              "      border-left-color: var(--fill-color);\n",
              "      border-top-color: var(--fill-color);\n",
              "    }\n",
              "    30% {\n",
              "      border-color: transparent;\n",
              "      border-left-color: var(--fill-color);\n",
              "      border-top-color: var(--fill-color);\n",
              "      border-right-color: var(--fill-color);\n",
              "    }\n",
              "    40% {\n",
              "      border-color: transparent;\n",
              "      border-right-color: var(--fill-color);\n",
              "      border-top-color: var(--fill-color);\n",
              "    }\n",
              "    60% {\n",
              "      border-color: transparent;\n",
              "      border-right-color: var(--fill-color);\n",
              "    }\n",
              "    80% {\n",
              "      border-color: transparent;\n",
              "      border-right-color: var(--fill-color);\n",
              "      border-bottom-color: var(--fill-color);\n",
              "    }\n",
              "    90% {\n",
              "      border-color: transparent;\n",
              "      border-bottom-color: var(--fill-color);\n",
              "    }\n",
              "  }\n",
              "</style>\n",
              "\n",
              "  <script>\n",
              "    async function quickchart(key) {\n",
              "      const quickchartButtonEl =\n",
              "        document.querySelector('#' + key + ' button');\n",
              "      quickchartButtonEl.disabled = true;  // To prevent multiple clicks.\n",
              "      quickchartButtonEl.classList.add('colab-df-spinner');\n",
              "      try {\n",
              "        const charts = await google.colab.kernel.invokeFunction(\n",
              "            'suggestCharts', [key], {});\n",
              "      } catch (error) {\n",
              "        console.error('Error during call to suggestCharts:', error);\n",
              "      }\n",
              "      quickchartButtonEl.classList.remove('colab-df-spinner');\n",
              "      quickchartButtonEl.classList.add('colab-df-quickchart-complete');\n",
              "    }\n",
              "    (() => {\n",
              "      let quickchartButtonEl =\n",
              "        document.querySelector('#df-e2472458-7724-4ae6-ae37-71a2020c2394 button');\n",
              "      quickchartButtonEl.style.display =\n",
              "        google.colab.kernel.accessAllowed ? 'block' : 'none';\n",
              "    })();\n",
              "  </script>\n",
              "</div>\n",
              "    </div>\n",
              "  </div>\n"
            ]
          },
          "metadata": {},
          "execution_count": 6
        }
      ]
    },
    {
      "cell_type": "code",
      "source": [
        "df.dtypes"
      ],
      "metadata": {
        "colab": {
          "base_uri": "https://localhost:8080/"
        },
        "id": "rQBLDDfo5DDJ",
        "outputId": "27f00d5a-1b96-4879-f341-6702496dcb48"
      },
      "execution_count": null,
      "outputs": [
        {
          "output_type": "execute_result",
          "data": {
            "text/plain": [
              "Cement                float64\n",
              "Blast Furnace Slag    float64\n",
              "Fly Ash               float64\n",
              "Water                 float64\n",
              "Superplasticizer      float64\n",
              "Coarse Aggregate      float64\n",
              "Fine Aggregate        float64\n",
              "Age                     int64\n",
              "Strength              float64\n",
              "dtype: object"
            ]
          },
          "metadata": {},
          "execution_count": 7
        }
      ]
    },
    {
      "cell_type": "code",
      "source": [
        "df.isnull().sum()"
      ],
      "metadata": {
        "colab": {
          "base_uri": "https://localhost:8080/"
        },
        "id": "0ZVt63vl5FX-",
        "outputId": "6e6ebedc-b705-48e8-cb12-5eeebd973e7f"
      },
      "execution_count": null,
      "outputs": [
        {
          "output_type": "execute_result",
          "data": {
            "text/plain": [
              "Cement                0\n",
              "Blast Furnace Slag    0\n",
              "Fly Ash               0\n",
              "Water                 0\n",
              "Superplasticizer      0\n",
              "Coarse Aggregate      0\n",
              "Fine Aggregate        0\n",
              "Age                   0\n",
              "Strength              0\n",
              "dtype: int64"
            ]
          },
          "metadata": {},
          "execution_count": 8
        }
      ]
    },
    {
      "cell_type": "code",
      "source": [
        "predictors=df[df.columns[df.columns!='Strength']]\n",
        "target=df['Strength']"
      ],
      "metadata": {
        "id": "CS_2Aa8F5L2y"
      },
      "execution_count": null,
      "outputs": []
    },
    {
      "cell_type": "code",
      "source": [
        "n_cols=predictors.shape[1]\n",
        "n_cols"
      ],
      "metadata": {
        "colab": {
          "base_uri": "https://localhost:8080/"
        },
        "id": "iNuz54La6PYC",
        "outputId": "1239c8ad-4f75-4ee3-cc21-718a212bf251"
      },
      "execution_count": null,
      "outputs": [
        {
          "output_type": "execute_result",
          "data": {
            "text/plain": [
              "8"
            ]
          },
          "metadata": {},
          "execution_count": 10
        }
      ]
    },
    {
      "cell_type": "code",
      "source": [
        "from sklearn.model_selection import train_test_split\n",
        "x_train,x_test,y_train,y_test=train_test_split(predictors,target,test_size=0.3,random_state=10)"
      ],
      "metadata": {
        "id": "VOPwzrQ56dA_"
      },
      "execution_count": null,
      "outputs": []
    },
    {
      "cell_type": "code",
      "source": [
        "import numpy as np\n",
        "import keras\n",
        "from keras.models import Sequential\n",
        "from keras.layers import Dense\n",
        "from sklearn.metrics import mean_squared_error"
      ],
      "metadata": {
        "id": "S5N0MNFO7bbb"
      },
      "execution_count": null,
      "outputs": []
    },
    {
      "cell_type": "code",
      "source": [
        "model=Sequential()\n",
        "model.add(Dense(10,activation='relu',input_shape=(n_cols,)))\n",
        "model.add(Dense(1))"
      ],
      "metadata": {
        "id": "0zV3TAH38VNE"
      },
      "execution_count": null,
      "outputs": []
    },
    {
      "cell_type": "code",
      "source": [
        "model.summary()"
      ],
      "metadata": {
        "colab": {
          "base_uri": "https://localhost:8080/"
        },
        "id": "MfUtA0cP9ABg",
        "outputId": "8a7617c4-61c2-4856-f176-c132f05119f8"
      },
      "execution_count": null,
      "outputs": [
        {
          "output_type": "stream",
          "name": "stdout",
          "text": [
            "Model: \"sequential\"\n",
            "_________________________________________________________________\n",
            " Layer (type)                Output Shape              Param #   \n",
            "=================================================================\n",
            " dense (Dense)               (None, 10)                90        \n",
            "                                                                 \n",
            " dense_1 (Dense)             (None, 1)                 11        \n",
            "                                                                 \n",
            "=================================================================\n",
            "Total params: 101 (404.00 Byte)\n",
            "Trainable params: 101 (404.00 Byte)\n",
            "Non-trainable params: 0 (0.00 Byte)\n",
            "_________________________________________________________________\n"
          ]
        }
      ]
    },
    {
      "cell_type": "code",
      "source": [
        "model.compile(optimizer='adam',loss='mean_squared_error')"
      ],
      "metadata": {
        "id": "s3B2ezV39CDS"
      },
      "execution_count": null,
      "outputs": []
    },
    {
      "cell_type": "code",
      "source": [
        "model.fit(x_train,y_train,epochs=50,verbose=1)"
      ],
      "metadata": {
        "colab": {
          "base_uri": "https://localhost:8080/"
        },
        "id": "0s2DNrpd9eSw",
        "outputId": "a94b3534-04fa-4edf-bf1c-f44cd8b673be"
      },
      "execution_count": null,
      "outputs": [
        {
          "output_type": "stream",
          "name": "stdout",
          "text": [
            "Epoch 1/50\n",
            "23/23 [==============================] - 1s 4ms/step - loss: 3362.3862\n",
            "Epoch 2/50\n",
            "23/23 [==============================] - 0s 3ms/step - loss: 2779.8035\n",
            "Epoch 3/50\n",
            "23/23 [==============================] - 0s 3ms/step - loss: 2277.5793\n",
            "Epoch 4/50\n",
            "23/23 [==============================] - 0s 3ms/step - loss: 1817.3998\n",
            "Epoch 5/50\n",
            "23/23 [==============================] - 0s 2ms/step - loss: 1434.5007\n",
            "Epoch 6/50\n",
            "23/23 [==============================] - 0s 4ms/step - loss: 1103.6774\n",
            "Epoch 7/50\n",
            "23/23 [==============================] - 0s 4ms/step - loss: 855.6656\n",
            "Epoch 8/50\n",
            "23/23 [==============================] - 0s 3ms/step - loss: 634.0702\n",
            "Epoch 9/50\n",
            "23/23 [==============================] - 0s 4ms/step - loss: 485.4939\n",
            "Epoch 10/50\n",
            "23/23 [==============================] - 0s 3ms/step - loss: 353.5870\n",
            "Epoch 11/50\n",
            "23/23 [==============================] - 0s 3ms/step - loss: 275.0836\n",
            "Epoch 12/50\n",
            "23/23 [==============================] - 0s 4ms/step - loss: 214.9014\n",
            "Epoch 13/50\n",
            "23/23 [==============================] - 0s 3ms/step - loss: 174.5721\n",
            "Epoch 14/50\n",
            "23/23 [==============================] - 0s 4ms/step - loss: 150.3537\n",
            "Epoch 15/50\n",
            "23/23 [==============================] - 0s 7ms/step - loss: 136.6102\n",
            "Epoch 16/50\n",
            "23/23 [==============================] - 0s 6ms/step - loss: 126.2398\n",
            "Epoch 17/50\n",
            "23/23 [==============================] - 0s 6ms/step - loss: 120.6678\n",
            "Epoch 18/50\n",
            "23/23 [==============================] - 0s 3ms/step - loss: 118.1248\n",
            "Epoch 19/50\n",
            "23/23 [==============================] - 0s 4ms/step - loss: 115.9214\n",
            "Epoch 20/50\n",
            "23/23 [==============================] - 0s 5ms/step - loss: 113.9892\n",
            "Epoch 21/50\n",
            "23/23 [==============================] - 0s 3ms/step - loss: 109.0612\n",
            "Epoch 22/50\n",
            "23/23 [==============================] - 0s 5ms/step - loss: 107.6792\n",
            "Epoch 23/50\n",
            "23/23 [==============================] - 0s 4ms/step - loss: 105.8310\n",
            "Epoch 24/50\n",
            "23/23 [==============================] - 0s 3ms/step - loss: 104.3214\n",
            "Epoch 25/50\n",
            "23/23 [==============================] - 0s 9ms/step - loss: 104.2735\n",
            "Epoch 26/50\n",
            "23/23 [==============================] - 0s 6ms/step - loss: 106.2437\n",
            "Epoch 27/50\n",
            "23/23 [==============================] - 0s 11ms/step - loss: 105.4814\n",
            "Epoch 28/50\n",
            "23/23 [==============================] - 0s 4ms/step - loss: 101.1293\n",
            "Epoch 29/50\n",
            "23/23 [==============================] - 0s 6ms/step - loss: 100.9563\n",
            "Epoch 30/50\n",
            "23/23 [==============================] - 0s 4ms/step - loss: 100.5770\n",
            "Epoch 31/50\n",
            "23/23 [==============================] - 0s 4ms/step - loss: 101.2667\n",
            "Epoch 32/50\n",
            "23/23 [==============================] - 0s 6ms/step - loss: 100.1299\n",
            "Epoch 33/50\n",
            "23/23 [==============================] - 0s 5ms/step - loss: 101.7006\n",
            "Epoch 34/50\n",
            "23/23 [==============================] - 0s 5ms/step - loss: 99.2871\n",
            "Epoch 35/50\n",
            "23/23 [==============================] - 0s 5ms/step - loss: 98.7677\n",
            "Epoch 36/50\n",
            "23/23 [==============================] - 0s 6ms/step - loss: 99.4583\n",
            "Epoch 37/50\n",
            "23/23 [==============================] - 0s 5ms/step - loss: 100.6840\n",
            "Epoch 38/50\n",
            "23/23 [==============================] - 0s 4ms/step - loss: 96.8921\n",
            "Epoch 39/50\n",
            "23/23 [==============================] - 0s 3ms/step - loss: 98.7456\n",
            "Epoch 40/50\n",
            "23/23 [==============================] - 0s 3ms/step - loss: 97.9133\n",
            "Epoch 41/50\n",
            "23/23 [==============================] - 0s 3ms/step - loss: 98.2921\n",
            "Epoch 42/50\n",
            "23/23 [==============================] - 0s 3ms/step - loss: 99.9264\n",
            "Epoch 43/50\n",
            "23/23 [==============================] - 0s 3ms/step - loss: 100.0419\n",
            "Epoch 44/50\n",
            "23/23 [==============================] - 0s 3ms/step - loss: 98.7382\n",
            "Epoch 45/50\n",
            "23/23 [==============================] - 0s 3ms/step - loss: 95.4751\n",
            "Epoch 46/50\n",
            "23/23 [==============================] - 0s 3ms/step - loss: 97.2063\n",
            "Epoch 47/50\n",
            "23/23 [==============================] - 0s 2ms/step - loss: 100.0999\n",
            "Epoch 48/50\n",
            "23/23 [==============================] - 0s 2ms/step - loss: 97.1708\n",
            "Epoch 49/50\n",
            "23/23 [==============================] - 0s 3ms/step - loss: 99.3642\n",
            "Epoch 50/50\n",
            "23/23 [==============================] - 0s 3ms/step - loss: 96.4088\n"
          ]
        },
        {
          "output_type": "execute_result",
          "data": {
            "text/plain": [
              "<keras.src.callbacks.History at 0x7f5b2f7a65c0>"
            ]
          },
          "metadata": {},
          "execution_count": 16
        }
      ]
    },
    {
      "cell_type": "code",
      "source": [
        "y_pred=model.predict(x_test)\n",
        "mse=mean_squared_error(y_test,y_pred)\n",
        "print(mse)"
      ],
      "metadata": {
        "colab": {
          "base_uri": "https://localhost:8080/"
        },
        "id": "essHZXhk9wjv",
        "outputId": "b97d908b-fd64-4009-b6cd-b6d2358cd1f9"
      },
      "execution_count": null,
      "outputs": [
        {
          "output_type": "stream",
          "name": "stdout",
          "text": [
            "10/10 [==============================] - 0s 3ms/step\n",
            "89.44042341195811\n"
          ]
        }
      ]
    },
    {
      "cell_type": "code",
      "source": [
        "mean_squared_errors=[]\n",
        "for i in range(1,51):\n",
        "  x_train,x_test,y_train,y_test=train_test_split(predictors,target,test_size=0.3,random_state=10)\n",
        "  model.fit(x_train,y_train,epochs=50,verbose=0)\n",
        "  y_pred=model.predict(x_test,verbose=0)\n",
        "  mse=mean_squared_error(y_test,y_pred)\n",
        "  mean_squared_errors.append(mse)\n",
        "  print('MSE ' + str(i) + ': ' + str(mse))"
      ],
      "metadata": {
        "colab": {
          "base_uri": "https://localhost:8080/"
        },
        "id": "UPSbFllJ_LKH",
        "outputId": "c5fbd5f5-6db7-429a-8fbc-58c0c14ad4bd"
      },
      "execution_count": null,
      "outputs": [
        {
          "output_type": "stream",
          "name": "stdout",
          "text": [
            "MSE 1: 67.0430297177148\n",
            "MSE 2: 53.3333107878424\n",
            "MSE 3: 67.17432400039473\n",
            "MSE 4: 50.9512389709302\n",
            "MSE 5: 50.63660307455468\n",
            "MSE 6: 48.710185701262624\n",
            "MSE 7: 46.99667104570203\n",
            "MSE 8: 47.60871047197972\n",
            "MSE 9: 50.605021790529186\n",
            "MSE 10: 46.75320802694425\n",
            "MSE 11: 52.86925267490762\n",
            "MSE 12: 46.34012766873264\n",
            "MSE 13: 47.045577824508875\n",
            "MSE 14: 45.768828681606806\n",
            "MSE 15: 44.80943477039818\n",
            "MSE 16: 44.727401496760315\n",
            "MSE 17: 45.67257622132139\n",
            "MSE 18: 49.125781850691475\n",
            "MSE 19: 50.33437007567554\n",
            "MSE 20: 44.21983021093106\n",
            "MSE 21: 48.21879956354289\n",
            "MSE 22: 44.94906471048587\n",
            "MSE 23: 44.22866592683103\n",
            "MSE 24: 43.98870350497008\n",
            "MSE 25: 46.50817351728264\n",
            "MSE 26: 46.95654478141555\n",
            "MSE 27: 49.93338590547265\n",
            "MSE 28: 44.22356789978597\n",
            "MSE 29: 53.632321963557004\n",
            "MSE 30: 54.96530219737335\n",
            "MSE 31: 44.63449326172037\n",
            "MSE 32: 53.860007640259695\n",
            "MSE 33: 44.14159624809371\n",
            "MSE 34: 44.48690673878293\n",
            "MSE 35: 43.925924753529124\n",
            "MSE 36: 54.039738246571964\n",
            "MSE 37: 47.94274994537054\n",
            "MSE 38: 45.92849092407364\n",
            "MSE 39: 58.422365057807596\n",
            "MSE 40: 46.252561151483306\n",
            "MSE 41: 47.5719102516582\n",
            "MSE 42: 44.02730501768878\n",
            "MSE 43: 43.5130068666494\n",
            "MSE 44: 51.29141439066512\n",
            "MSE 45: 45.88031993610627\n",
            "MSE 46: 44.65565209859343\n",
            "MSE 47: 44.001169769340144\n",
            "MSE 48: 51.74123786493824\n",
            "MSE 49: 44.196184375723995\n",
            "MSE 50: 44.190140156940544\n"
          ]
        }
      ]
    },
    {
      "cell_type": "code",
      "source": [
        "std=np.std(mean_squared_errors)\n",
        "mean=np.mean(mean_squared_errors)\n",
        "print('Standard Deviation: '+str(std))\n",
        "print('Mean: '+str(mean))"
      ],
      "metadata": {
        "colab": {
          "base_uri": "https://localhost:8080/"
        },
        "id": "bz-tBqEwBVAJ",
        "outputId": "d4ca8f6d-c999-4f3f-947b-6e8928ca3ce6"
      },
      "execution_count": null,
      "outputs": [
        {
          "output_type": "stream",
          "name": "stdout",
          "text": [
            "Standard Deviation: 5.211922945084277\n",
            "Mean: 48.46066379460205\n"
          ]
        }
      ]
    },
    {
      "cell_type": "markdown",
      "source": [
        "The standard deviation is 17.32 while mean is 53.79 for 50 mean squared errors. The data used in part A is not normalized."
      ],
      "metadata": {
        "id": "4zagENT_FGNx"
      }
    },
    {
      "cell_type": "code",
      "source": [
        "predictors=(predictors-predictors.mean())/predictors.std()"
      ],
      "metadata": {
        "id": "ajSshrORCjwq"
      },
      "execution_count": null,
      "outputs": []
    },
    {
      "cell_type": "code",
      "source": [
        "mean_squared_errors=[]\n",
        "for i in range(1,51):\n",
        "  x_train,x_test,y_train,y_test=train_test_split(predictors,target,test_size=0.3,random_state=10)\n",
        "  model.fit(x_train,y_train,epochs=50,verbose=0)\n",
        "  y_pred=model.predict(x_test,verbose=0)\n",
        "  mse=mean_squared_error(y_test,y_pred)\n",
        "  mean_squared_errors.append(mse)\n",
        "  print('MSE ' + str(i) + ': ' + str(mse))"
      ],
      "metadata": {
        "colab": {
          "base_uri": "https://localhost:8080/"
        },
        "id": "_7M0LawEE3At",
        "outputId": "092a35f3-e17e-4768-8502-dcef91e01717"
      },
      "execution_count": null,
      "outputs": [
        {
          "output_type": "stream",
          "name": "stdout",
          "text": [
            "MSE 1: 602.3490767085339\n",
            "MSE 2: 186.1280458638338\n",
            "MSE 3: 107.96977728155282\n",
            "MSE 4: 88.11975629240118\n",
            "MSE 5: 77.03073994003144\n",
            "MSE 6: 69.32600355747485\n",
            "MSE 7: 61.372453815190674\n",
            "MSE 8: 52.79554757378932\n",
            "MSE 9: 46.509496641109244\n",
            "MSE 10: 43.53084419814985\n",
            "MSE 11: 42.07985161606971\n",
            "MSE 12: 41.40766863646465\n",
            "MSE 13: 40.71375447449098\n",
            "MSE 14: 40.150669964229294\n",
            "MSE 15: 39.682747869021036\n",
            "MSE 16: 39.46784972459172\n",
            "MSE 17: 38.99616636086075\n",
            "MSE 18: 38.586325461550054\n",
            "MSE 19: 38.41367539736633\n",
            "MSE 20: 38.29117873170552\n",
            "MSE 21: 37.72782418372023\n",
            "MSE 22: 37.66797545966798\n",
            "MSE 23: 37.44444188383272\n",
            "MSE 24: 37.48222454113596\n",
            "MSE 25: 37.05455415511989\n",
            "MSE 26: 37.13955599267644\n",
            "MSE 27: 36.89243646700113\n",
            "MSE 28: 36.93896696289715\n",
            "MSE 29: 36.92417406535865\n",
            "MSE 30: 36.73249744099436\n",
            "MSE 31: 36.35809601171523\n",
            "MSE 32: 36.36848006916949\n",
            "MSE 33: 36.351698311584094\n",
            "MSE 34: 36.30641094276982\n",
            "MSE 35: 36.11166804090458\n",
            "MSE 36: 35.858521352114934\n",
            "MSE 37: 36.04667326825872\n",
            "MSE 38: 35.813175538124185\n",
            "MSE 39: 35.940217407109344\n",
            "MSE 40: 35.71152460934335\n",
            "MSE 41: 35.81340662570189\n",
            "MSE 42: 35.74382721482338\n",
            "MSE 43: 35.92331130311102\n",
            "MSE 44: 35.82649030392753\n",
            "MSE 45: 35.617593209192336\n",
            "MSE 46: 35.627531378665395\n",
            "MSE 47: 35.6389326277266\n",
            "MSE 48: 35.68336245497855\n",
            "MSE 49: 35.622645770876304\n",
            "MSE 50: 35.61808866513544\n"
          ]
        }
      ]
    },
    {
      "cell_type": "code",
      "source": [
        "std=np.std(mean_squared_errors)\n",
        "mean=np.mean(mean_squared_errors)\n",
        "print('Standard Deviation: '+str(std))\n",
        "print('Mean: '+str(mean))"
      ],
      "metadata": {
        "colab": {
          "base_uri": "https://localhost:8080/"
        },
        "id": "mHjMzsAoFD8g",
        "outputId": "f648db92-028c-4f12-a885-5474251c6b1a"
      },
      "execution_count": null,
      "outputs": [
        {
          "output_type": "stream",
          "name": "stdout",
          "text": [
            "Standard Deviation: 81.77056493367841\n",
            "Mean: 56.45815872732108\n"
          ]
        }
      ]
    },
    {
      "cell_type": "markdown",
      "source": [
        "After normalizing the predictors, the standard deviation is 28.57 and the mean is 43.177 of 50 mean squared errors. Compared to results in part A, it is observed that standard deviation has increased. However, the mean of mean squared errors has decreased."
      ],
      "metadata": {
        "id": "Q2IF2JyHI9SK"
      }
    },
    {
      "cell_type": "code",
      "source": [
        "mean_squared_errors=[]\n",
        "for i in range(1,51):\n",
        "  x_train,x_test,y_train,y_test=train_test_split(predictors,target,test_size=0.3,random_state=10)\n",
        "  model.fit(x_train,y_train,epochs=100,verbose=0)\n",
        "  y_pred=model.predict(x_test,verbose=0)\n",
        "  mse=mean_squared_error(y_test,y_pred)\n",
        "  mean_squared_errors.append(mse)\n",
        "  print('MSE ' + str(i) + ': ' + str(mse))"
      ],
      "metadata": {
        "colab": {
          "base_uri": "https://localhost:8080/"
        },
        "id": "UhgEGaPUFfp-",
        "outputId": "218848a6-ccbf-44a3-9746-4e5cc6c12743"
      },
      "execution_count": null,
      "outputs": [
        {
          "output_type": "stream",
          "name": "stdout",
          "text": [
            "MSE 1: 35.58232557697496\n",
            "MSE 2: 35.79916959323034\n",
            "MSE 3: 35.613850741370335\n",
            "MSE 4: 35.86450074449519\n",
            "MSE 5: 35.82175019854427\n",
            "MSE 6: 35.82078220794818\n",
            "MSE 7: 35.79084671678588\n",
            "MSE 8: 35.57572236241109\n",
            "MSE 9: 35.23019961105558\n",
            "MSE 10: 35.33245934994371\n",
            "MSE 11: 35.342656843454066\n",
            "MSE 12: 35.24402395844868\n",
            "MSE 13: 35.35604727710246\n",
            "MSE 14: 35.37796330361831\n",
            "MSE 15: 35.2928915885778\n",
            "MSE 16: 35.45099407725439\n",
            "MSE 17: 35.396805486708\n",
            "MSE 18: 35.58331807977423\n",
            "MSE 19: 35.4303164555974\n",
            "MSE 20: 35.353238469719784\n",
            "MSE 21: 35.24518091809507\n",
            "MSE 22: 35.24905384202335\n",
            "MSE 23: 35.36002751222504\n",
            "MSE 24: 35.157693112612314\n",
            "MSE 25: 35.34849757303219\n",
            "MSE 26: 35.325860230486285\n",
            "MSE 27: 35.21303672944834\n",
            "MSE 28: 35.07853773204096\n",
            "MSE 29: 35.14755572071505\n",
            "MSE 30: 35.15140580251867\n",
            "MSE 31: 35.13914718751204\n",
            "MSE 32: 35.04282532738481\n",
            "MSE 33: 35.12135373745357\n",
            "MSE 34: 35.083078350297\n",
            "MSE 35: 35.11595757234207\n",
            "MSE 36: 34.995959800909496\n",
            "MSE 37: 34.99682918601239\n",
            "MSE 38: 35.03209256700818\n",
            "MSE 39: 34.93192907373403\n",
            "MSE 40: 34.925012583542376\n",
            "MSE 41: 34.80520823404271\n",
            "MSE 42: 34.61818368748585\n",
            "MSE 43: 34.366513069956056\n",
            "MSE 44: 34.18389627768394\n",
            "MSE 45: 34.12208739430394\n",
            "MSE 46: 33.781238448124476\n",
            "MSE 47: 33.6510057583235\n",
            "MSE 48: 33.41229601196496\n",
            "MSE 49: 33.15982612391237\n",
            "MSE 50: 32.86798589978731\n"
          ]
        }
      ]
    },
    {
      "cell_type": "code",
      "source": [
        "std=np.std(mean_squared_errors)\n",
        "mean=np.mean(mean_squared_errors)\n",
        "print('Standard Deviation: '+str(std))\n",
        "print('Mean: '+str(mean))"
      ],
      "metadata": {
        "colab": {
          "base_uri": "https://localhost:8080/"
        },
        "id": "fMzQvN9kI5wg",
        "outputId": "c5e381f6-c0e4-45a8-83d9-14613bcec171"
      },
      "execution_count": null,
      "outputs": [
        {
          "output_type": "stream",
          "name": "stdout",
          "text": [
            "Standard Deviation: 0.6706855767763671\n",
            "Mean: 35.037782762159864\n"
          ]
        }
      ]
    },
    {
      "cell_type": "markdown",
      "source": [
        "With the increase of epochs, it is evident that results have improved. The standard deviation is now 0.94 and mean is 31.32 for 50 mean squared errors. The results of part C are far better than part B."
      ],
      "metadata": {
        "id": "0zilu_pcKgyo"
      }
    },
    {
      "cell_type": "code",
      "source": [
        "model=Sequential()\n",
        "model.add(Dense(10,activation='relu',input_shape=(n_cols,)))\n",
        "model.add(Dense(10,activation='relu',input_shape=(n_cols,)))\n",
        "model.add(Dense(10,activation='relu',input_shape=(n_cols,)))\n",
        "model.add(Dense(1))"
      ],
      "metadata": {
        "id": "TKD-rlyWJ380"
      },
      "execution_count": null,
      "outputs": []
    },
    {
      "cell_type": "code",
      "source": [
        "model.compile(optimizer='adam',loss='mean_squared_error')"
      ],
      "metadata": {
        "id": "J86JtmMxJ8EH"
      },
      "execution_count": null,
      "outputs": []
    },
    {
      "cell_type": "code",
      "source": [
        "mean_squared_errors=[]\n",
        "for i in range(1,51):\n",
        "  x_train,x_test,y_train,y_test=train_test_split(predictors,target,test_size=0.3,random_state=10)\n",
        "  model.fit(x_train,y_train,epochs=50,verbose=0)\n",
        "  y_pred=model.predict(x_test,verbose=0)\n",
        "  mse=mean_squared_error(y_test,y_pred)\n",
        "  mean_squared_errors.append(mse)\n",
        "  print('MSE ' + str(i) + ': ' + str(mse))"
      ],
      "metadata": {
        "colab": {
          "base_uri": "https://localhost:8080/"
        },
        "id": "7kfJnStjKaIS",
        "outputId": "ccfc9857-9eac-4ebd-a5d8-2954d990fad3"
      },
      "execution_count": null,
      "outputs": [
        {
          "output_type": "stream",
          "name": "stdout",
          "text": [
            "MSE 1: 121.42414011054578\n",
            "MSE 2: 92.74629975548979\n",
            "MSE 3: 52.87738000869609\n",
            "MSE 4: 40.290724986050115\n",
            "MSE 5: 39.97412863510942\n",
            "MSE 6: 39.32741690888386\n",
            "MSE 7: 38.42389703843835\n",
            "MSE 8: 37.94075055196095\n",
            "MSE 9: 36.60354250960812\n",
            "MSE 10: 35.49880924000404\n",
            "MSE 11: 34.580785821139216\n",
            "MSE 12: 33.36960546106622\n",
            "MSE 13: 32.92167599271482\n",
            "MSE 14: 32.47963352190989\n",
            "MSE 15: 31.469464644056625\n",
            "MSE 16: 34.59092246451356\n",
            "MSE 17: 31.804841267621327\n",
            "MSE 18: 33.22320422995274\n",
            "MSE 19: 31.878139215594615\n",
            "MSE 20: 31.417250608523272\n",
            "MSE 21: 32.03640730755439\n",
            "MSE 22: 31.430985797397852\n",
            "MSE 23: 33.152256890863654\n",
            "MSE 24: 32.63601597865507\n",
            "MSE 25: 34.08554767502833\n",
            "MSE 26: 31.73123459439664\n",
            "MSE 27: 32.194968461659386\n",
            "MSE 28: 33.22587870319088\n",
            "MSE 29: 32.14170413299325\n",
            "MSE 30: 33.41191856821772\n",
            "MSE 31: 32.00402874130783\n",
            "MSE 32: 33.45052620137526\n",
            "MSE 33: 32.23498114584525\n",
            "MSE 34: 32.923559887190166\n",
            "MSE 35: 32.654714164575985\n",
            "MSE 36: 32.32543278458252\n",
            "MSE 37: 32.29705141073447\n",
            "MSE 38: 33.94707474828462\n",
            "MSE 39: 33.489150978947734\n",
            "MSE 40: 35.042062456212655\n",
            "MSE 41: 31.714041362234962\n",
            "MSE 42: 32.7683021844107\n",
            "MSE 43: 32.321995422680274\n",
            "MSE 44: 33.35985075889385\n",
            "MSE 45: 33.693230574801234\n",
            "MSE 46: 32.24393370653675\n",
            "MSE 47: 31.834555122470935\n",
            "MSE 48: 32.42027952442729\n",
            "MSE 49: 32.18031707232921\n",
            "MSE 50: 31.94478208042315\n"
          ]
        }
      ]
    },
    {
      "cell_type": "code",
      "source": [
        "std=np.std(mean_squared_errors)\n",
        "mean=np.mean(mean_squared_errors)\n",
        "print('Standard Deviation: '+str(std))\n",
        "print('Mean: '+str(mean))"
      ],
      "metadata": {
        "colab": {
          "base_uri": "https://localhost:8080/"
        },
        "id": "ITNBLXqyLS3N",
        "outputId": "0c7b1781-ef08-4dc7-ca23-baaae9ced477"
      },
      "execution_count": null,
      "outputs": [
        {
          "output_type": "stream",
          "name": "stdout",
          "text": [
            "Standard Deviation: 15.022453335435646\n",
            "Mean: 36.87478802820202\n"
          ]
        }
      ]
    },
    {
      "cell_type": "markdown",
      "source": [
        "The results in this part show that standard deviation and mean of 50 mean squared errors have decreased and results are better than the results obtained in part B."
      ],
      "metadata": {
        "id": "3ec70biOLZ-s"
      }
    }
  ]
}