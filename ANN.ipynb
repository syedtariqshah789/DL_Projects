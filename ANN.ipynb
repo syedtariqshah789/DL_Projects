{
  "nbformat": 4,
  "nbformat_minor": 0,
  "metadata": {
    "colab": {
      "provenance": [],
      "authorship_tag": "ABX9TyN/V0eQEYPDSGkAy3CHJUmE",
      "include_colab_link": true
    },
    "kernelspec": {
      "name": "python3",
      "display_name": "Python 3"
    },
    "language_info": {
      "name": "python"
    }
  },
  "cells": [
    {
      "cell_type": "markdown",
      "metadata": {
        "id": "view-in-github",
        "colab_type": "text"
      },
      "source": [
        "<a href=\"https://colab.research.google.com/github/syedtariqshah789/DL_Projects/blob/main/ANN.ipynb\" target=\"_parent\"><img src=\"https://colab.research.google.com/assets/colab-badge.svg\" alt=\"Open In Colab\"/></a>"
      ]
    },
    {
      "cell_type": "code",
      "execution_count": null,
      "metadata": {
        "id": "x9i-ZfnRLAeR"
      },
      "outputs": [],
      "source": [
        "n = 2 # number of inputs\n",
        "num_hidden_layers = 2 # number of hidden layers\n",
        "m = [2, 2] # number of nodes in each hidden layer\n",
        "num_nodes_output = 1 # number of nodes in the output layer"
      ]
    },
    {
      "cell_type": "code",
      "source": [
        "import numpy as np # import the Numpy library\n",
        "\n",
        "num_nodes_previous = n # number of nodes in the previous layer\n",
        "\n",
        "network = {} # initialize network an an empty dictionary\n",
        "\n",
        "# loop through each layer and randomly initialize the weights and biases associated with each node\n",
        "# notice how we are adding 1 to the number of hidden layers in order to include the output layer\n",
        "for layer in range(num_hidden_layers + 1):\n",
        "\n",
        "    # determine name of layer\n",
        "    if layer == num_hidden_layers:\n",
        "        layer_name = 'output'\n",
        "        num_nodes = num_nodes_output\n",
        "    else:\n",
        "        layer_name = 'layer_{}'.format(layer + 1)\n",
        "        num_nodes = m[layer]\n",
        "\n",
        "    # initialize weights and biases associated with each node in the current layer\n",
        "    network[layer_name] = {}\n",
        "    for node in range(num_nodes):\n",
        "        node_name = 'node_{}'.format(node+1)\n",
        "        network[layer_name][node_name] = {\n",
        "            'weights': np.around(np.random.uniform(size=num_nodes_previous), decimals=2),\n",
        "            'bias': np.around(np.random.uniform(size=1), decimals=2),\n",
        "        }\n",
        "\n",
        "    num_nodes_previous = num_nodes\n",
        "\n",
        "print(network) # print network"
      ],
      "metadata": {
        "colab": {
          "base_uri": "https://localhost:8080/"
        },
        "id": "e1P8aGsiLLD2",
        "outputId": "a9c364c3-7b60-44fe-c6db-e196d8f2a01e"
      },
      "execution_count": null,
      "outputs": [
        {
          "output_type": "stream",
          "name": "stdout",
          "text": [
            "{'layer_1': {'node_1': {'weights': array([0.74, 0.75]), 'bias': array([0.])}, 'node_2': {'weights': array([0.98, 0.62]), 'bias': array([0.38])}}, 'layer_2': {'node_1': {'weights': array([0.03, 0.37]), 'bias': array([0.42])}, 'node_2': {'weights': array([0.6 , 0.64]), 'bias': array([0.42])}}, 'output': {'node_1': {'weights': array([0.66, 0.08]), 'bias': array([0.46])}}}\n"
          ]
        }
      ]
    },
    {
      "cell_type": "code",
      "source": [
        "def initialize_network(num_inputs, num_hidden_layers, num_nodes_hidden, num_nodes_output):\n",
        "\n",
        "    num_nodes_previous = num_inputs # number of nodes in the previous layer\n",
        "\n",
        "    network = {}\n",
        "\n",
        "    # loop through each layer and randomly initialize the weights and biases associated with each layer\n",
        "    for layer in range(num_hidden_layers + 1):\n",
        "\n",
        "        if layer == num_hidden_layers:\n",
        "            layer_name = 'output' # name last layer in the network output\n",
        "            num_nodes = num_nodes_output\n",
        "        else:\n",
        "            layer_name = 'layer_{}'.format(layer + 1) # otherwise give the layer a number\n",
        "            num_nodes = num_nodes_hidden[layer]\n",
        "\n",
        "        # initialize weights and bias for each node\n",
        "        network[layer_name] = {}\n",
        "        for node in range(num_nodes):\n",
        "            node_name = 'node_{}'.format(node+1)\n",
        "            network[layer_name][node_name] = {\n",
        "                'weights': np.around(np.random.uniform(size=num_nodes_previous), decimals=2),\n",
        "                'bias': np.around(np.random.uniform(size=1), decimals=2),\n",
        "            }\n",
        "\n",
        "        num_nodes_previous = num_nodes\n",
        "\n",
        "    return network # return the network"
      ],
      "metadata": {
        "id": "UbLuW56qLeOH"
      },
      "execution_count": null,
      "outputs": []
    },
    {
      "cell_type": "code",
      "source": [
        "small_network = initialize_network(5, 3, [3, 2, 3], 1)"
      ],
      "metadata": {
        "id": "x_Cc-OMZLhqE"
      },
      "execution_count": null,
      "outputs": []
    },
    {
      "cell_type": "code",
      "source": [
        "def compute_weighted_sum(inputs, weights, bias):\n",
        "    return np.sum(inputs * weights) + bias"
      ],
      "metadata": {
        "id": "H5sUABUpLltj"
      },
      "execution_count": null,
      "outputs": []
    },
    {
      "cell_type": "code",
      "source": [
        "from random import seed\n",
        "import numpy as np\n",
        "\n",
        "np.random.seed(12)\n",
        "inputs = np.around(np.random.uniform(size=5), decimals=2)\n",
        "\n",
        "print('The inputs to the network are {}'.format(inputs))"
      ],
      "metadata": {
        "colab": {
          "base_uri": "https://localhost:8080/"
        },
        "id": "k4_7CFKcLpMa",
        "outputId": "04206dfc-50ef-48dc-a327-34bcff37f22f"
      },
      "execution_count": null,
      "outputs": [
        {
          "output_type": "stream",
          "name": "stdout",
          "text": [
            "The inputs to the network are [0.15 0.74 0.26 0.53 0.01]\n"
          ]
        }
      ]
    },
    {
      "cell_type": "code",
      "source": [
        "### type your answer here\n",
        "node_weights = small_network['layer_1']['node_1']['weights']\n",
        "node_bias = small_network['layer_1']['node_1']['bias']\n",
        "\n",
        "weighted_sum = compute_weighted_sum(inputs, node_weights, node_bias)\n",
        "print('The weighted sum at the first node in the hidden layer is {}'.format(np.around(weighted_sum[0], decimals=4)))\n",
        "\n",
        "\n"
      ],
      "metadata": {
        "colab": {
          "base_uri": "https://localhost:8080/"
        },
        "id": "7471IKv-Lr-C",
        "outputId": "4c8e2ddb-ad87-4d1a-d6fe-1999eea48bae"
      },
      "execution_count": null,
      "outputs": [
        {
          "output_type": "stream",
          "name": "stdout",
          "text": [
            "The weighted sum at the first node in the hidden layer is 1.5063\n"
          ]
        }
      ]
    },
    {
      "cell_type": "code",
      "source": [
        "def node_activation(weighted_sum):\n",
        "    return 1.0 / (1.0 + np.exp(-1 * weighted_sum))"
      ],
      "metadata": {
        "id": "BJtbDB72LwIq"
      },
      "execution_count": null,
      "outputs": []
    },
    {
      "cell_type": "code",
      "source": [
        "def forward_propagate(network, inputs):\n",
        "\n",
        "    layer_inputs = list(inputs) # start with the input layer as the input to the first hidden layer\n",
        "\n",
        "    for layer in network:\n",
        "\n",
        "        layer_data = network[layer]\n",
        "\n",
        "        layer_outputs = []\n",
        "        for layer_node in layer_data:\n",
        "\n",
        "            node_data = layer_data[layer_node]\n",
        "\n",
        "            # compute the weighted sum and the output of each node at the same time\n",
        "            node_output = node_activation(compute_weighted_sum(layer_inputs, node_data['weights'], node_data['bias']))\n",
        "            layer_outputs.append(np.around(node_output[0], decimals=4))\n",
        "\n",
        "        if layer != 'output':\n",
        "            print('The outputs of the nodes in hidden layer number {} is {}'.format(layer.split('_')[1], layer_outputs))\n",
        "\n",
        "        layer_inputs = layer_outputs # set the output of this layer to be the input to next layer\n",
        "\n",
        "    network_predictions = layer_outputs\n",
        "    return network_predictions"
      ],
      "metadata": {
        "id": "0vgCjXc6Lz88"
      },
      "execution_count": null,
      "outputs": []
    },
    {
      "cell_type": "code",
      "source": [
        "### type your answser here\n",
        "predictions = forward_propagate(small_network, inputs)\n",
        "print('The predicted value by the network for the given input is {}'.format(np.around(predictions[0], decimals=4)))\n",
        "\n"
      ],
      "metadata": {
        "colab": {
          "base_uri": "https://localhost:8080/"
        },
        "id": "tX8opE4YL8mo",
        "outputId": "c0340906-2758-4dbb-e29f-8bc38d8b1584"
      },
      "execution_count": null,
      "outputs": [
        {
          "output_type": "stream",
          "name": "stdout",
          "text": [
            "The outputs of the nodes in hidden layer number 1 is [0.8185, 0.8394, 0.8191]\n",
            "The outputs of the nodes in hidden layer number 2 is [0.7169, 0.8573]\n",
            "The outputs of the nodes in hidden layer number 3 is [0.7164, 0.7352, 0.9045]\n",
            "The predicted value by the network for the given input is 0.7593\n"
          ]
        }
      ]
    },
    {
      "cell_type": "code",
      "source": [
        "my_network = initialize_network(5, 3, [2, 3, 2], 3)"
      ],
      "metadata": {
        "id": "hGbQyNMUL_zM"
      },
      "execution_count": null,
      "outputs": []
    },
    {
      "cell_type": "code",
      "source": [
        "inputs = np.around(np.random.uniform(size=5), decimals=2)"
      ],
      "metadata": {
        "id": "9k6apeJQMEhw"
      },
      "execution_count": null,
      "outputs": []
    },
    {
      "cell_type": "code",
      "source": [
        "predictions = forward_propagate(my_network, inputs)\n",
        "print('The predicted values by the network for the given input are {}'.format(predictions))"
      ],
      "metadata": {
        "colab": {
          "base_uri": "https://localhost:8080/"
        },
        "id": "au6ipkyEMHNV",
        "outputId": "a8779551-3d0b-4d7e-a5b2-d6476f015c87"
      },
      "execution_count": null,
      "outputs": [
        {
          "output_type": "stream",
          "name": "stdout",
          "text": [
            "The outputs of the nodes in hidden layer number 1 is [0.8857, 0.8889]\n",
            "The outputs of the nodes in hidden layer number 2 is [0.7822, 0.6965, 0.7411]\n",
            "The outputs of the nodes in hidden layer number 3 is [0.868, 0.881]\n",
            "The predicted values by the network for the given input are [0.8952, 0.8222, 0.8035]\n"
          ]
        }
      ]
    }
  ]
}